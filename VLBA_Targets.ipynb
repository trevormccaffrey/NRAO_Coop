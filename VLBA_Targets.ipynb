{
 "cells": [
  {
   "cell_type": "code",
   "execution_count": 1,
   "metadata": {},
   "outputs": [],
   "source": [
    "from IPython.display import Markdown as md\n",
    "from astropy.cosmology import FlatLambdaCDM\n",
    "import numpy as np\n",
    "import matplotlib.pyplot as plt"
   ]
  },
  {
   "cell_type": "markdown",
   "metadata": {},
   "source": [
    "7/30/20\n",
    "\n",
    "We want to construct a sample of radio-quiet QSOs from Kimball et al. 2011 to observe with VLBA, carefully selecting targets based on results from follow-up A-configuration observations.  Interesting sources include ones with:\n",
    "\n",
    "* Complex morphology markedly different from C-config observations\n",
    "\n",
    "* Strong variability in the positive direction (review Barvainis et al. 2005 for variability on RQQs; though that sample isn't RQ by our definition)\n",
    "\n",
    "Jim Condon showed us how to calculate brightness temperatures as follows (through email on 7/23/20):\n",
    "\n",
    "$$ T_b = \\frac{I_{\\nu}c^2}{2k\\nu^2} $$\n",
    "\n",
    "Specific intensity for radio images is typically flux density $S_{\\nu}$ per beam solid angle.  Thus for radio images:\n",
    "\n",
    "$$ T_b = \\frac{S_{\\nu}}{\\Omega_b}\\frac{c^2}{2k\\nu^2} $$\n",
    "\n",
    "where $\\Omega_b$ is the beam solid angle in steradians given by:\n",
    "\n",
    "$$ \\Omega_b = \\frac{\\pi\\theta_M\\theta_m}{k\\ln2} $$\n",
    "\n",
    "---\n"
   ]
  },
  {
   "cell_type": "code",
   "execution_count": 2,
   "metadata": {},
   "outputs": [],
   "source": [
    "cosmo = FlatLambdaCDM(H0=70, Om0=0.3)\n",
    "\n",
    "def radluminosity(nu1, nu2, S, alpha, z):\n",
    "    #calculate luminosity at nu1 based on data at nu2\n",
    "    DL = 3.086e24*cosmo.luminosity_distance(z).value\n",
    "    L = ((4*np.pi*DL**2*(S*1e-23*1e-6)) / ((1+z)**(1+alpha))) * (nu1/nu2)**alpha * 1e-7\n",
    "    return np.log10(L)\n",
    "\n",
    "def Tb(S, theta_m, theta_M):\n",
    "    c = 3.e8 #m/s\n",
    "    k = 1.38e-23 #J/K\n",
    "    nu = 6.e9 #GHz\n",
    "    S_nu = S*1e-32 #convert from µJy to W/m^2/Hz\n",
    "    Omega_b = (np.pi*(theta_M/2.06e8)*(theta_m/2.06e8)) / (4*np.log(2)) #convert thetas from mas to radians on the fly\n",
    "    Tb = (S_nu/Omega_b) * (c**2/(2*k*nu**2))\n",
    "    return Tb"
   ]
  },
  {
   "cell_type": "markdown",
   "metadata": {},
   "source": [
    "### 1000+1047\n",
    "\n",
    "![1000+1047](git_images/1000+1047_3.png)\n",
    "\n",
    "A compact source showing strong variability.  Flux risen from ~233µJy/beam to 556µJy/beam, corresponding to a luminosity change of:"
   ]
  },
  {
   "cell_type": "code",
   "execution_count": 3,
   "metadata": {},
   "outputs": [
    {
     "name": "stdout",
     "output_type": "stream",
     "text": [
      "Kellerman luminosity  = 22.50 W/Hz\n",
      "TM+AK     luminosity  = 22.90 W/Hz\n",
      "TM+AK brightness temp ~ 3436.86 K\n"
     ]
    }
   ],
   "source": [
    "L_10001047_kell = radluminosity(6., 6., 223, -0.7, 0.226)\n",
    "L_10001047 = radluminosity(6., 6., 556, -0.7, 0.226)\n",
    "Tb_10001047 = Tb(556, 49, 112)\n",
    "\n",
    "print(\"Kellerman luminosity  = %.2f W/Hz\" % L_10001047_kell)\n",
    "print(\"TM+AK     luminosity  = %.2f W/Hz\" % L_10001047)\n",
    "print(\"TM+AK brightness temp ~ %.2f K\" % Tb_10001047)"
   ]
  },
  {
   "cell_type": "markdown",
   "metadata": {},
   "source": [
    "---\n",
    "### 1045+2933\n",
    "\n",
    "![1045+2933](git_images/1045+2933_kellermancontours.png)\n",
    "\n",
    "A likely multi-component source that is strongly variable.  Kellerman flux density ~179µJy whereas our total flux is ~323µJy (core is ~283µJy); luminosity changes below"
   ]
  },
  {
   "cell_type": "code",
   "execution_count": 4,
   "metadata": {},
   "outputs": [
    {
     "name": "stdout",
     "output_type": "stream",
     "text": [
      "Kellerman luminosity  = 22.66 W/Hz\n",
      "TM+AK     luminosity  = 22.91 W/Hz\n",
      "TM+AK brightness temp ~ 421.07 K\n"
     ]
    }
   ],
   "source": [
    "L_10452933_kell = radluminosity(6., 6., 179, -0.7, 0.293)\n",
    "L_10452933 = radluminosity(6., 6., 323, -0.7, 0.293)\n",
    "Tb_10452933 = Tb(283, 120, 190)\n",
    "\n",
    "print(\"Kellerman luminosity  = %.2f W/Hz\" % L_10452933_kell)\n",
    "print(\"TM+AK     luminosity  = %.2f W/Hz\" % L_10452933)\n",
    "print(\"TM+AK brightness temp ~ %.2f K\" % Tb_10452933)"
   ]
  },
  {
   "cell_type": "markdown",
   "metadata": {},
   "source": [
    "---\n",
    "### 0822+4553\n",
    "\n",
    "![0822+4552](git_images/0822+4553_kellermancontours.png)\n",
    "\n",
    "A strong source that varies from 222µJy in Kellermann observations to 531µJy in ours (peak from core ~425µJy/beam).  The core may also have an associated lobe within the Kellermann contours"
   ]
  },
  {
   "cell_type": "code",
   "execution_count": 5,
   "metadata": {},
   "outputs": [
    {
     "name": "stdout",
     "output_type": "stream",
     "text": [
      "Kellerman luminosity  = 22.77 W/Hz\n",
      "TM+AK     luminosity  = 23.15 W/Hz\n",
      "TM+AK brightness temp ~ 1079.96 K\n"
     ]
    }
   ],
   "source": [
    "L_08224552_kell = radluminosity(6., 6., 222, -0.7, 0.3)\n",
    "L_08224552 = radluminosity(6., 6., 531, -0.7, 0.3)\n",
    "Tb_08224552 = Tb(425, 150, 89)\n",
    "\n",
    "print(\"Kellerman luminosity  = %.2f W/Hz\" % L_08224552_kell)\n",
    "print(\"TM+AK     luminosity  = %.2f W/Hz\" % L_08224552)\n",
    "print(\"TM+AK brightness temp ~ %.2f K\" % Tb_08224552)"
   ]
  },
  {
   "cell_type": "markdown",
   "metadata": {},
   "source": [
    "---\n",
    "### 0935+4819\n",
    "\n",
    "![0935+4819](git_images/0935+4819_3.png)\n",
    "\n",
    "Not particularly interesting because of its variability: $S_{Kell}\\sim601\\mu Jy$ versus our $\\sim528\\mu Jy$ (peak of right-sided lobe ~194µJy/beam), but interesting for other obvious reasons.  Amy writes in her 19A-343 proposal: \n",
    "\n",
    "\n",
    "\"\n",
    "Besides star formation processes, another possible origin of extended emission in RQQ host galaxies could be small-scale, weak radio lobes confined within the galaxy. These would be recognizable by symmetric double-lobed morphology, or possibly by one-sided emission off-center from a radio core; neither morphology is expected from star formation. While such “compact double” morphology has been observed in radio galaxies (see review by O’Dea 1988) and radio-loud QSOs (e.g., Stanghellini 2003; Momjian et al. 2018), no such morphology has been observed in RQQs.\""
   ]
  },
  {
   "cell_type": "code",
   "execution_count": 6,
   "metadata": {},
   "outputs": [
    {
     "name": "stdout",
     "output_type": "stream",
     "text": [
      "Kellerman luminosity  = 22.92 W/Hz\n",
      "TM+AK     luminosity  = 22.87 W/Hz\n",
      "TM+AK brightness temp ~ 87.47 K\n"
     ]
    }
   ],
   "source": [
    "L_09354819_kell = radluminosity(6., 6., 601, -0.7, 0.224)\n",
    "L_09354819 = radluminosity(6., 6., 528, -0.7, 0.224)\n",
    "Tb_09354819 = Tb(194, 360, 209)\n",
    "\n",
    "print(\"Kellerman luminosity  = %.2f W/Hz\" % L_09354819_kell)\n",
    "print(\"TM+AK     luminosity  = %.2f W/Hz\" % L_09354819)\n",
    "print(\"TM+AK brightness temp ~ %.2f K\" % Tb_09354819)"
   ]
  },
  {
   "cell_type": "markdown",
   "metadata": {},
   "source": [
    "---\n",
    "### 1425+0803\n",
    "\n",
    "![1425+0803](git_images/1425+0803_3.png)\n",
    "\n",
    "Probably not the strongest candidate as it is not as bright to begin with and the variability also isn't as significant as some others ($S_{Kell}\\sim138\\mu Jy$ versus our measured flux $S_{\\nu}\\sim194\\mu Jy$), but is still variable by our measurements nonetheless, so could be a potential VLBA candidate"
   ]
  },
  {
   "cell_type": "code",
   "execution_count": 7,
   "metadata": {},
   "outputs": [
    {
     "name": "stdout",
     "output_type": "stream",
     "text": [
      "Kellerman luminosity  = 22.31 W/Hz\n",
      "TM+AK     luminosity  = 22.46 W/Hz\n",
      "TM+AK brightness temp ~ 448.52 K\n"
     ]
    }
   ],
   "source": [
    "L_14250803_kell = radluminosity(6., 6., 138, -0.7, 0.23)\n",
    "L_14250803 = radluminosity(6., 6., 194, -0.7, 0.23)\n",
    "Tb_14250803 = Tb(194, 201, 73)\n",
    "\n",
    "print(\"Kellerman luminosity  = %.2f W/Hz\" % L_14250803_kell)\n",
    "print(\"TM+AK     luminosity  = %.2f W/Hz\" % L_14250803)\n",
    "print(\"TM+AK brightness temp ~ %.2f K\" % Tb_14250803)"
   ]
  },
  {
   "cell_type": "markdown",
   "metadata": {},
   "source": [
    "---\n",
    "### 1617+0638\n",
    "\n",
    "![1617+0638](git_images/1617+0638_3.png)\n",
    "\n",
    "Another example of pretty much exactly what we're looking for: a compact core exhibiting strong variability.   $S_{Kell}\\sim266\\mu Jy$ versus our measured flux $S_{\\nu}\\sim466\\mu Jy$"
   ]
  },
  {
   "cell_type": "code",
   "execution_count": 8,
   "metadata": {},
   "outputs": [
    {
     "name": "stdout",
     "output_type": "stream",
     "text": [
      "Kellerman luminosity  = 22.59 W/Hz\n",
      "TM+AK     luminosity  = 22.83 W/Hz\n",
      "TM+AK brightness temp ~ 1297.90 K\n"
     ]
    }
   ],
   "source": [
    "L_16170638_kell = radluminosity(6., 6., 266, -0.7, 0.229)\n",
    "L_16170638 = radluminosity(6., 6., 466, -0.7, 0.229)\n",
    "Tb_16170638 = Tb(466, 140, 87)\n",
    "\n",
    "print(\"Kellerman luminosity  = %.2f W/Hz\" % L_16170638_kell)\n",
    "print(\"TM+AK     luminosity  = %.2f W/Hz\" % L_16170638)\n",
    "print(\"TM+AK brightness temp ~ %.2f K\" % Tb_16170638)"
   ]
  },
  {
   "cell_type": "markdown",
   "metadata": {},
   "source": [
    "---\n",
    "### 1627+4736\n",
    "\n",
    "![1627+4736](git_images/1627+4736_3.png)\n",
    "\n",
    "This image is still very much a work in progress (as of 7/30), but I strongly believe that it could still be a good candidate for VLBA.  Even if we disregard the possible extended structure, the core has at least $\\gt500\\mu Jy$ of contributing flux.  Additional self-calibrated images confirm flux measurements well above that measured in Kellerman+2016. ($S_{Kell}\\sim299\\mu Jy$ versus our measured flux $S_{\\nu}\\sim573\\mu Jy$"
   ]
  },
  {
   "cell_type": "code",
   "execution_count": 9,
   "metadata": {},
   "outputs": [
    {
     "name": "stdout",
     "output_type": "stream",
     "text": [
      "Kellerman luminosity  = 22.77 W/Hz\n",
      "TM+AK     luminosity  = 23.05 W/Hz\n",
      "TM+AK brightness temp ~ 1147.47 K\n"
     ]
    }
   ],
   "source": [
    "L_16274736_kell = radluminosity(6., 6., 299, -0.7, 0.262)\n",
    "L_16274736 = radluminosity(6., 6., 573, -0.7, 0.262)\n",
    "Tb_16274736 = Tb(573, 154, 110)\n",
    "\n",
    "print(\"Kellerman luminosity  = %.2f W/Hz\" % L_16274736_kell)\n",
    "print(\"TM+AK     luminosity  = %.2f W/Hz\" % L_16274736)\n",
    "print(\"TM+AK brightness temp ~ %.2f K\" % Tb_16274736)"
   ]
  },
  {
   "cell_type": "markdown",
   "metadata": {},
   "source": [
    "---\n",
    "### 1727+6322\n",
    "\n",
    "![1727+6322](git_images/1727+6322_multiscale.png)\n",
    "\n",
    "Not sure if this image should still be proritized for VLBA?  No doubt at all that the morphology is interesting, but there are no indicators of extreme brightness temperatures or variability.  There's also no way to tell if certain components (e.g. the core) of this source are variable, as we can't distinguish jet/core emission in the Kellermann images.  $S_{Kell}\\sim728\\mu Jy$ versus our measured flux $S_{\\nu}\\sim670\\mu Jy$"
   ]
  },
  {
   "cell_type": "code",
   "execution_count": 10,
   "metadata": {},
   "outputs": [
    {
     "name": "stdout",
     "output_type": "stream",
     "text": [
      "Kellerman luminosity  = 22.98 W/Hz\n",
      "TM+AK     luminosity  = 22.94 W/Hz\n",
      "TM+AK brightness temp ~ 0.91 K\n"
     ]
    }
   ],
   "source": [
    "L_17276322_kell = radluminosity(6., 6., 728, -0.7, 0.217)\n",
    "L_17276322 = radluminosity(6., 6., 670, -0.7, 0.217)\n",
    "Tb_17276322 = Tb(53.6, 2040, 980)\n",
    "\n",
    "print(\"Kellerman luminosity  = %.2f W/Hz\" % L_17276322_kell)\n",
    "print(\"TM+AK     luminosity  = %.2f W/Hz\" % L_17276322)\n",
    "print(\"TM+AK brightness temp ~ %.2f K\" % Tb_17276322) #brightness temps prob not very meaningful for this one (at least the way I did it)"
   ]
  }
 ],
 "metadata": {
  "kernelspec": {
   "display_name": "Python 3",
   "language": "python",
   "name": "python3"
  },
  "language_info": {
   "codemirror_mode": {
    "name": "ipython",
    "version": 3
   },
   "file_extension": ".py",
   "mimetype": "text/x-python",
   "name": "python",
   "nbconvert_exporter": "python",
   "pygments_lexer": "ipython3",
   "version": "3.6.10"
  }
 },
 "nbformat": 4,
 "nbformat_minor": 4
}
