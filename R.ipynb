{
 "cells": [
  {
   "cell_type": "code",
   "execution_count": 1,
   "metadata": {},
   "outputs": [
    {
     "name": "stderr",
     "output_type": "stream",
     "text": [
      "/Users/trevormccaffrey/anaconda3/lib/python3.6/_collections_abc.py:841: MatplotlibDeprecationWarning: Support for setting the 'text.latex.preamble' or 'pgf.preamble' rcParam to a list of strings is deprecated since 3.3 and will be removed two minor releases later; set it to a single string instead.\n",
      "  self[key] = other[key]\n"
     ]
    }
   ],
   "source": [
    "import matplotlib.pyplot as plt\n",
    "import numpy as np\n",
    "import pandas as pd\n",
    "import richardsplot\n",
    "from astropy.cosmology import FlatLambdaCDM"
   ]
  },
  {
   "cell_type": "code",
   "execution_count": 2,
   "metadata": {},
   "outputs": [],
   "source": [
    "cosmo = FlatLambdaCDM(H0=70, Om0=0.3)"
   ]
  },
  {
   "cell_type": "code",
   "execution_count": 3,
   "metadata": {},
   "outputs": [
    {
     "name": "stdout",
     "output_type": "stream",
     "text": [
      "total 18928\r\n",
      "drwxr-xr-x   6 trevormccaffrey  staff      192 Nov 19 14:19 \u001b[34mKellerman2016\u001b[m\u001b[m\r\n",
      "-rw-r--r--   1 trevormccaffrey  staff    60498 Nov 29 09:06 R.ipynb\r\n",
      "-rw-r--r--   1 trevormccaffrey  staff  5456380 Nov 19 14:19 REU_paper.ipynb\r\n",
      "-rw-r--r--@  1 trevormccaffrey  staff   287087 Nov 19 15:14 RQQfigs_DR7.csv\r\n",
      "-rw-r--r--   1 trevormccaffrey  staff    98194 Nov 19 14:19 SpringFinalFigs_moreParams.csv\r\n",
      "-rw-r--r--   1 trevormccaffrey  staff    13116 Nov 19 14:19 VLBA_Targets.ipynb\r\n",
      "drwxr-xr-x   6 trevormccaffrey  staff      192 Nov 19 14:19 \u001b[34mVariability\u001b[m\u001b[m\r\n",
      "-rw-r--r--   1 trevormccaffrey  staff   228096 Nov 19 14:19 flux_distribution.ipynb\r\n",
      "-rw-r--r--   1 trevormccaffrey  staff   380122 Nov 19 14:19 flux_ratio.ipynb\r\n",
      "-rw-r--r--   1 trevormccaffrey  staff   119089 Nov 19 14:19 fluxratioscat_whistos_greyed_out.pdf\r\n",
      "drwxr-xr-x  12 trevormccaffrey  staff      384 Nov 19 14:19 \u001b[34mgit_images\u001b[m\u001b[m\r\n",
      "-rw-r--r--   1 trevormccaffrey  staff   388706 Nov 19 14:19 plots.ipynb\r\n",
      "-rw-r--r--   1 trevormccaffrey  staff   370116 Nov 19 14:19 radio_colors.ipynb\r\n",
      "-rw-r--r--   1 trevormccaffrey  staff  1858416 Nov 19 14:19 rqq_alphabias_explanation.jpg\r\n",
      "-rw-r--r--   1 trevormccaffrey  staff   405565 Nov 19 14:19 spectra_reconstructions_GMM.ipynb\r\n",
      "drwxr-xr-x   3 trevormccaffrey  staff       96 Nov 19 14:19 \u001b[34mtclean_params\u001b[m\u001b[m\r\n"
     ]
    }
   ],
   "source": [
    "!ls -l"
   ]
  },
  {
   "cell_type": "code",
   "execution_count": 4,
   "metadata": {},
   "outputs": [
    {
     "name": "stdout",
     "output_type": "stream",
     "text": [
      "Convert_KellermanMRT.ipynb KellermanQSOs.txt\r\n",
      "KellermanQSOs.csv          kell2016_data.txt\r\n"
     ]
    }
   ],
   "source": [
    "!ls Kellerman2016"
   ]
  },
  {
   "cell_type": "markdown",
   "metadata": {},
   "source": [
    "We want the typical R ratio for our sample, defined as:\n",
    "$$ R = \\frac{L_\\mathrm{rad}}{L_\\mathrm{opt}} \\rightarrow \\log{R} = \\log{L_\\mathrm{rad}} - \\log{L_\\mathrm{opt}} $$\n",
    "\n",
    "I'll compute them in two ways as a cross check:\n",
    "1) Using absolute $i$-band magnitudes from DR7 and equation 4 of Richards+2006:\n",
    "$$ \\log{\\frac{L_{2500}}{4\\pi D_L^2}} = -0.4[M_i(z=2) + 48.60 + \\log(1+2)] $$\n",
    "\n",
    "2) Directing computing the luminosity from the apparent magnitudes.  The $i$-band flux densities are computed as:\n",
    "$$ S_i = 10^{9.56-i/2.5}\\mu\\mathrm{Jy}, $$\n",
    "and so for a luminosity distance $D_L$ (in centimeters), the luminosity at 2500Å can be approximated with:\n",
    "$$ L = \\frac{ 4\\pi D_L^2(S_i \\times 10^{-23}\\frac{\\mathrm{erg}\\: \\mathrm{s}^{-1} \\mathrm{cm}^{-2}\\: \\mathrm{Hz}^{-1}}{\\mathrm{Jy}} \\times 10^{-6}\\frac{\\mathrm{Jy}}{\\mu\\mathrm{Jy}}) } {(1+z)^{1+\\alpha}} \\times 10^{-7} \\frac{\\mathrm{J}}{\\mathrm{erg}}  $$\n",
    "gives the luminosity in $\\mathrm{W\\,Hz}^{-1}$."
   ]
  },
  {
   "cell_type": "code",
   "execution_count": 5,
   "metadata": {},
   "outputs": [],
   "source": [
    "def luminosity(nu1, nu2, S, alpha, z):\n",
    "    #calculate luminosity at nu1 based on flux at nu2 (in GHz, µJy)\n",
    "    DL = 3.086e24*cosmo.luminosity_distance(z).value #convert Mpc to cm\n",
    "    L = ((4*np.pi*DL**2*(S*1e-23*1e-6)) / ((1+z)**(1+alpha))) * (nu1/nu2)**alpha * 1e-7\n",
    "    return np.log10(L)"
   ]
  },
  {
   "cell_type": "code",
   "execution_count": 6,
   "metadata": {},
   "outputs": [
    {
     "data": {
      "text/html": [
       "<div>\n",
       "<style scoped>\n",
       "    .dataframe tbody tr th:only-of-type {\n",
       "        vertical-align: middle;\n",
       "    }\n",
       "\n",
       "    .dataframe tbody tr th {\n",
       "        vertical-align: top;\n",
       "    }\n",
       "\n",
       "    .dataframe thead th {\n",
       "        text-align: right;\n",
       "    }\n",
       "</style>\n",
       "<table border=\"1\" class=\"dataframe\">\n",
       "  <thead>\n",
       "    <tr style=\"text-align: right;\">\n",
       "      <th></th>\n",
       "      <th>Name</th>\n",
       "      <th>Maj</th>\n",
       "      <th>Min</th>\n",
       "      <th>S1p4_FIRST</th>\n",
       "      <th>S1p4_err</th>\n",
       "      <th>A_morph</th>\n",
       "      <th>C_morph</th>\n",
       "      <th>Flux</th>\n",
       "      <th>FluxErr</th>\n",
       "      <th>PFimfit</th>\n",
       "      <th>...</th>\n",
       "      <th>LOGBH_MGII_VO09_ERR</th>\n",
       "      <th>LOGBH_MGII_S10</th>\n",
       "      <th>LOGBH_MGII_S10_ERR</th>\n",
       "      <th>LOGBH_CIV_VP06</th>\n",
       "      <th>LOGBH_CIV_VP06_ERR</th>\n",
       "      <th>LOGBH</th>\n",
       "      <th>LOGBH_ERR</th>\n",
       "      <th>LOGEDD_RATIO</th>\n",
       "      <th>SPECIAL_INTEREST_FLAG</th>\n",
       "      <th>QSO_ID</th>\n",
       "    </tr>\n",
       "  </thead>\n",
       "  <tbody>\n",
       "    <tr>\n",
       "      <th>0</th>\n",
       "      <td>0808+4407</td>\n",
       "      <td>472.0</td>\n",
       "      <td>237.0</td>\n",
       "      <td>NaN</td>\n",
       "      <td>NaN</td>\n",
       "      <td>U</td>\n",
       "      <td>U</td>\n",
       "      <td>36.3</td>\n",
       "      <td>8.300000</td>\n",
       "      <td>36.3</td>\n",
       "      <td>...</td>\n",
       "      <td>-1.0</td>\n",
       "      <td>0.0</td>\n",
       "      <td>-1.0</td>\n",
       "      <td>0.0</td>\n",
       "      <td>-1.0</td>\n",
       "      <td>8.317348</td>\n",
       "      <td>0.085185</td>\n",
       "      <td>-0.921289</td>\n",
       "      <td>0</td>\n",
       "      <td>12047</td>\n",
       "    </tr>\n",
       "    <tr>\n",
       "      <th>1</th>\n",
       "      <td>0816+4258</td>\n",
       "      <td>153.0</td>\n",
       "      <td>105.0</td>\n",
       "      <td>NaN</td>\n",
       "      <td>NaN</td>\n",
       "      <td>SR</td>\n",
       "      <td>U</td>\n",
       "      <td>199.0</td>\n",
       "      <td>14.000000</td>\n",
       "      <td>178.5</td>\n",
       "      <td>...</td>\n",
       "      <td>-1.0</td>\n",
       "      <td>0.0</td>\n",
       "      <td>-1.0</td>\n",
       "      <td>0.0</td>\n",
       "      <td>-1.0</td>\n",
       "      <td>8.301919</td>\n",
       "      <td>0.071424</td>\n",
       "      <td>-0.830593</td>\n",
       "      <td>0</td>\n",
       "      <td>12994</td>\n",
       "    </tr>\n",
       "    <tr>\n",
       "      <th>2</th>\n",
       "      <td>0822+4553</td>\n",
       "      <td>150.0</td>\n",
       "      <td>89.0</td>\n",
       "      <td>427</td>\n",
       "      <td>127.0</td>\n",
       "      <td>M</td>\n",
       "      <td>U</td>\n",
       "      <td>531.0</td>\n",
       "      <td>33.015148</td>\n",
       "      <td>425.0</td>\n",
       "      <td>...</td>\n",
       "      <td>-1.0</td>\n",
       "      <td>0.0</td>\n",
       "      <td>-1.0</td>\n",
       "      <td>0.0</td>\n",
       "      <td>-1.0</td>\n",
       "      <td>9.146790</td>\n",
       "      <td>0.102723</td>\n",
       "      <td>-1.749866</td>\n",
       "      <td>1</td>\n",
       "      <td>13570</td>\n",
       "    </tr>\n",
       "    <tr>\n",
       "      <th>3</th>\n",
       "      <td>0834+3826</td>\n",
       "      <td>238.0</td>\n",
       "      <td>39.0</td>\n",
       "      <td>NaN</td>\n",
       "      <td>NaN</td>\n",
       "      <td>U</td>\n",
       "      <td>U</td>\n",
       "      <td>116.8</td>\n",
       "      <td>7.100000</td>\n",
       "      <td>116.8</td>\n",
       "      <td>...</td>\n",
       "      <td>-1.0</td>\n",
       "      <td>0.0</td>\n",
       "      <td>-1.0</td>\n",
       "      <td>0.0</td>\n",
       "      <td>-1.0</td>\n",
       "      <td>8.712260</td>\n",
       "      <td>0.028708</td>\n",
       "      <td>-1.226687</td>\n",
       "      <td>2</td>\n",
       "      <td>14975</td>\n",
       "    </tr>\n",
       "    <tr>\n",
       "      <th>4</th>\n",
       "      <td>0843+5357</td>\n",
       "      <td>838.0</td>\n",
       "      <td>168.0</td>\n",
       "      <td>516</td>\n",
       "      <td>150.0</td>\n",
       "      <td>E</td>\n",
       "      <td>U</td>\n",
       "      <td>349.0</td>\n",
       "      <td>31.000000</td>\n",
       "      <td>122.8</td>\n",
       "      <td>...</td>\n",
       "      <td>-1.0</td>\n",
       "      <td>0.0</td>\n",
       "      <td>-1.0</td>\n",
       "      <td>0.0</td>\n",
       "      <td>-1.0</td>\n",
       "      <td>9.050891</td>\n",
       "      <td>0.032263</td>\n",
       "      <td>-1.651153</td>\n",
       "      <td>0</td>\n",
       "      <td>16044</td>\n",
       "    </tr>\n",
       "  </tbody>\n",
       "</table>\n",
       "<p>5 rows × 216 columns</p>\n",
       "</div>"
      ],
      "text/plain": [
       "        Name    Maj    Min S1p4_FIRST  S1p4_err A_morph C_morph   Flux  \\\n",
       "0  0808+4407  472.0  237.0        NaN       NaN       U       U   36.3   \n",
       "1  0816+4258  153.0  105.0        NaN       NaN      SR       U  199.0   \n",
       "2  0822+4553  150.0   89.0        427     127.0       M       U  531.0   \n",
       "3  0834+3826  238.0   39.0        NaN       NaN       U       U  116.8   \n",
       "4  0843+5357  838.0  168.0        516     150.0       E       U  349.0   \n",
       "\n",
       "     FluxErr  PFimfit  ...  LOGBH_MGII_VO09_ERR  LOGBH_MGII_S10  \\\n",
       "0   8.300000     36.3  ...                 -1.0             0.0   \n",
       "1  14.000000    178.5  ...                 -1.0             0.0   \n",
       "2  33.015148    425.0  ...                 -1.0             0.0   \n",
       "3   7.100000    116.8  ...                 -1.0             0.0   \n",
       "4  31.000000    122.8  ...                 -1.0             0.0   \n",
       "\n",
       "   LOGBH_MGII_S10_ERR  LOGBH_CIV_VP06  LOGBH_CIV_VP06_ERR     LOGBH LOGBH_ERR  \\\n",
       "0                -1.0             0.0                -1.0  8.317348  0.085185   \n",
       "1                -1.0             0.0                -1.0  8.301919  0.071424   \n",
       "2                -1.0             0.0                -1.0  9.146790  0.102723   \n",
       "3                -1.0             0.0                -1.0  8.712260  0.028708   \n",
       "4                -1.0             0.0                -1.0  9.050891  0.032263   \n",
       "\n",
       "  LOGEDD_RATIO  SPECIAL_INTEREST_FLAG  QSO_ID  \n",
       "0    -0.921289                      0   12047  \n",
       "1    -0.830593                      0   12994  \n",
       "2    -1.749866                      1   13570  \n",
       "3    -1.226687                      2   14975  \n",
       "4    -1.651153                      0   16044  \n",
       "\n",
       "[5 rows x 216 columns]"
      ]
     },
     "execution_count": 6,
     "metadata": {},
     "output_type": "execute_result"
    }
   ],
   "source": [
    "df = pd.read_csv(\"RQQfigs_DR7.csv\")\n",
    "df.head()"
   ]
  },
  {
   "cell_type": "code",
   "execution_count": 7,
   "metadata": {},
   "outputs": [
    {
     "data": {
      "text/plain": [
       "(array([12., 13., 15., 17., 20., 14., 10., 10., 13.,  4.]),\n",
       " array([21.41366586, 21.587409  , 21.76115214, 21.93489528, 22.10863841,\n",
       "        22.28238155, 22.45612469, 22.62986783, 22.80361096, 22.9773541 ,\n",
       "        23.15109724]),\n",
       " <BarContainer object of 10 artists>)"
      ]
     },
     "execution_count": 7,
     "metadata": {},
     "output_type": "execute_result"
    },
    {
     "data": {
      "image/png": "[encoded data removed]",
      "text/plain": [
       "<Figure size 502.117x502.117 with 1 Axes>"
      ]
     },
     "metadata": {
      "needs_background": "light"
     },
     "output_type": "display_data"
    }
   ],
   "source": [
    "z = df[\"z\"].values\n",
    "\n",
    "Srad = df[\"Flux\"].values\n",
    "Lrad = luminosity(6., 6., Srad, -0.7, z)\n",
    "plt.hist(Lrad)"
   ]
  },
  {
   "cell_type": "markdown",
   "metadata": {},
   "source": [
    "Note that\n",
    "\n",
    "$$ \\nu = \\frac{c}{\\lambda} \\rightarrow \\nu\\,[\\mathrm{GHz}] = \\frac{3\\times 10^8 \\mathrm{m/s}}{2500Å} \\times 10^{10}\\frac{Å}{\\mathrm{m}} \\times 10^{-9}\\frac{\\mathrm{GHz}}{\\mathrm{Hz}} =$$"
   ]
  },
  {
   "cell_type": "code",
   "execution_count": 8,
   "metadata": {},
   "outputs": [
    {
     "data": {
      "text/plain": [
       "1200000.0"
      ]
     },
     "execution_count": 8,
     "metadata": {},
     "output_type": "execute_result"
    }
   ],
   "source": [
    "(3.e8/2500)*(1.e10)*(1.e-9)"
   ]
  },
  {
   "cell_type": "markdown",
   "metadata": {},
   "source": [
    "this many GHz."
   ]
  },
  {
   "cell_type": "code",
   "execution_count": 9,
   "metadata": {},
   "outputs": [],
   "source": [
    "i = df[\"i\"].values\n",
    "Si = 10.**(9.56 - i/2.5) #in µJy\n",
    "Mi_Z2 = df[\"MI_Z2_1\"].values\n",
    "Li = luminosity(1200000., 1200000., Si, -0.5, z)"
   ]
  },
  {
   "cell_type": "code",
   "execution_count": 10,
   "metadata": {},
   "outputs": [
    {
     "data": {
      "text/plain": [
       "(array([36., 31., 13., 17., 11., 14.,  0.,  2.,  3.,  1.]),\n",
       " array([22.83363852, 22.90127969, 22.96892086, 23.03656203, 23.1042032 ,\n",
       "        23.17184437, 23.23948554, 23.30712671, 23.37476788, 23.44240905,\n",
       "        23.51005022]),\n",
       " <BarContainer object of 10 artists>)"
      ]
     },
     "execution_count": 10,
     "metadata": {},
     "output_type": "execute_result"
    },
    {
     "data": {
      "image/png": "[encoded data removed]",
      "text/plain": [
       "<Figure size 502.117x502.117 with 1 Axes>"
      ]
     },
     "metadata": {
      "needs_background": "light"
     },
     "output_type": "display_data"
    }
   ],
   "source": [
    "plt.hist(Li)"
   ]
  },
  {
   "cell_type": "code",
   "execution_count": 11,
   "metadata": {},
   "outputs": [
    {
     "data": {
      "text/plain": [
       "array([22.83456138, 23.07368576, 22.88521405, 22.91359585, 23.08556375,\n",
       "       22.83960422, 23.12190811, 23.35408789, 23.18918154, 23.03642082,\n",
       "       23.03724281, 22.83870403, 23.31791937, 23.15042412, 22.88125035,\n",
       "       22.87663836, 22.93457649, 22.8532498 , 22.86979333, 22.8916628 ,\n",
       "       22.96925009, 23.14858561, 23.22774595, 22.83800269, 22.87644281,\n",
       "       23.19778561, 22.92945554, 23.12208789, 22.91541228, 23.04080402,\n",
       "       22.95332871, 22.88750811, 23.05101815, 22.8564628 , 22.93000422,\n",
       "       22.84525035, 23.16298528, 22.90835429, 23.20711281, 22.89079588,\n",
       "       22.91602412, 23.40639399, 22.88557381, 22.96033289, 23.44202082,\n",
       "       22.99376538, 22.85783636, 22.92048576, 22.84183636, 22.97321405,\n",
       "       23.13442318, 22.92871281, 22.84463636, 22.93545811, 22.92817493,\n",
       "       22.93764195, 22.95684281, 23.12324846, 22.96755429, 22.83363852,\n",
       "       22.88732361, 22.92027112, 22.85977493, 22.84551937, 22.93577648,\n",
       "       22.9912498 , 23.22584312, 22.83661981, 22.91101228, 22.91313289,\n",
       "       22.84587574, 23.19880422, 22.86784131, 22.86347503, 23.17417648,\n",
       "       22.88937549, 22.86507574, 23.07080269, 23.0640628 , 22.97621981,\n",
       "       23.39933791, 22.84134595, 22.97173791, 23.10056416, 22.88722318,\n",
       "       22.89173791, 23.06507654, 23.04456138, 23.00423214, 23.51005022,\n",
       "       23.19744131, 23.05135813, 23.05108806, 22.94079585, 22.96114981,\n",
       "       22.85034981, 22.99067112, 23.11981944, 23.07838341, 22.97634981,\n",
       "       23.12079203, 22.99678331, 22.89760269, 22.96522954, 23.02039203,\n",
       "       22.96537648, 23.21559585, 22.84617648, 23.22990811, 23.23074981,\n",
       "       23.0608628 , 22.84230837, 22.90440422, 22.94427503, 22.90483193,\n",
       "       23.20194981, 22.95153289, 23.23722318, 23.05697549, 23.10654595,\n",
       "       23.20205949, 22.93168576, 22.94750478, 23.09917381, 23.12259496,\n",
       "       22.98255813, 23.0497715 , 22.96525316])"
      ]
     },
     "execution_count": 11,
     "metadata": {},
     "output_type": "execute_result"
    }
   ],
   "source": [
    "Li"
   ]
  },
  {
   "cell_type": "code",
   "execution_count": 12,
   "metadata": {},
   "outputs": [
    {
     "data": {
      "text/plain": [
       "16.971"
      ]
     },
     "execution_count": 12,
     "metadata": {},
     "output_type": "execute_result"
    }
   ],
   "source": [
    "np.median(i)"
   ]
  },
  {
   "cell_type": "code",
   "execution_count": 13,
   "metadata": {},
   "outputs": [
    {
     "data": {
      "text/plain": [
       "(array([ 2., 11., 16., 17., 18., 17., 22., 13.,  9.,  3.]),\n",
       " array([-1.87987302, -1.6652974 , -1.45072178, -1.23614616, -1.02157053,\n",
       "        -0.80699491, -0.59241929, -0.37784367, -0.16326805,  0.05130757,\n",
       "         0.26588319]),\n",
       " <BarContainer object of 10 artists>)"
      ]
     },
     "execution_count": 13,
     "metadata": {},
     "output_type": "execute_result"
    },
    {
     "data": {
      "image/png": "[encoded data removed]",
      "text/plain": [
       "<Figure size 502.117x502.117 with 1 Axes>"
      ]
     },
     "metadata": {
      "needs_background": "light"
     },
     "output_type": "display_data"
    }
   ],
   "source": [
    "logR = Lrad - Li\n",
    "plt.hist(logR)"
   ]
  },
  {
   "cell_type": "code",
   "execution_count": 14,
   "metadata": {},
   "outputs": [
    {
     "data": {
      "text/plain": [
       "-0.8064938605970209"
      ]
     },
     "execution_count": 14,
     "metadata": {},
     "output_type": "execute_result"
    }
   ],
   "source": [
    "np.median(logR)"
   ]
  },
  {
   "cell_type": "markdown",
   "metadata": {},
   "source": [
    "---"
   ]
  },
  {
   "cell_type": "code",
   "execution_count": 15,
   "metadata": {},
   "outputs": [],
   "source": [
    "#optical luminosity derived from absolute magnitudes - should be pretty much the same if I'm doing things right\n",
    "#DL = 3.086e24*cosmo.luminosity_distance(z).value #Aha - this should be constant (10pc), that's why these were so much bigger before\n",
    "d = 3.08e19\n",
    "Li_mag = -0.4*(Mi_Z2 + 48.60 + np.log10(1+2)) + np.log10(4*np.pi*d**2) - 7"
   ]
  },
  {
   "cell_type": "code",
   "execution_count": 16,
   "metadata": {},
   "outputs": [
    {
     "data": {
      "text/plain": [
       "(array([  1.,   0.,   0.,   0.,   0.,   0.,   0.,   0.,   0., 123.]),\n",
       " array([13.4294628 , 14.44299126, 15.45651972, 16.47004818, 17.48357664,\n",
       "        18.4971051 , 19.51063357, 20.52416203, 21.53769049, 22.55121895,\n",
       "        23.56474741]),\n",
       " <BarContainer object of 10 artists>)"
      ]
     },
     "execution_count": 16,
     "metadata": {},
     "output_type": "execute_result"
    },
    {
     "data": {
      "image/png": "[encoded data removed]",
      "text/plain": [
       "<Figure size 502.117x502.117 with 1 Axes>"
      ]
     },
     "metadata": {
      "needs_background": "light"
     },
     "output_type": "display_data"
    }
   ],
   "source": [
    "plt.hist(Li_mag)"
   ]
  },
  {
   "cell_type": "code",
   "execution_count": 17,
   "metadata": {},
   "outputs": [
    {
     "data": {
      "text/plain": [
       "array([22.88763818, 23.03696372, 22.92090332, 22.96557875, 23.01037564,\n",
       "       22.88767708,         nan, 23.37418406,         nan, 22.97321442,\n",
       "       23.08005925, 22.90173549, 23.28491858,         nan, 22.93071338,\n",
       "       22.79747284,         nan, 22.89129735, 22.9062148 , 22.83619414,\n",
       "       23.0093224 , 23.08459624, 23.1615868 , 22.89139496, 22.91117864,\n",
       "       23.15135051, 22.87011074, 23.13411271, 22.8488966 , 23.05480044,\n",
       "       22.90044643, 22.93277475, 23.04366498, 13.4294628 , 22.98165714,\n",
       "       22.91456104, 23.09742531, 22.96866066, 23.23456269, 22.81955111,\n",
       "       22.88884499, 23.46272002, 22.92861613, 22.89655314, 23.38805876,\n",
       "       23.02388102, 22.8293758 , 22.85790263, 22.82237737, 23.03931034,\n",
       "       23.18270397, 23.03137985, 22.81518261, 23.15402725, 22.83860907,\n",
       "       23.00040521, 23.03232421, 23.17564547, 23.02026693, 22.79073335,\n",
       "       22.81875227, 22.87079008, 22.8031199 , 22.80563652, 22.99454291,\n",
       "       23.03049572, 23.27779841, 22.78858933, 22.84666158, 22.86014365,\n",
       "       22.88662814, 23.21713813, 22.91033143, 22.78995626, 23.22698647,\n",
       "       22.82408099, 22.91133042, 23.11823417, 23.01858054, 22.91205314,\n",
       "       23.3611345 , 22.77028372, 22.94204202, 23.14333988, 22.94578772,\n",
       "       22.85668452, 23.10395149, 23.08159668, 23.06057447, 23.56474741,\n",
       "       23.23952575, 23.06901305, 23.06912415, 23.01092074, 22.91060069,\n",
       "       22.80077554, 22.94052586, 23.0596779 , 23.00609928, 22.92296486,\n",
       "       23.09519859, 22.93200774, 22.93970519, 22.95650004, 23.00471438,\n",
       "       23.01237841, 23.26829979, 22.90006757, 23.27053177, 23.17779625,\n",
       "       23.01320853, 22.88327026, 22.95252482, 22.87636921, 22.83473338,\n",
       "       23.15355673, 22.89003114, 23.28841546, 23.00570175, 23.04482212,\n",
       "       23.2504746 , 22.93709194, 22.96988209, 23.13847871, 23.1284716 ,\n",
       "       22.99925938, 23.11412535, 22.91202727])"
      ]
     },
     "execution_count": 17,
     "metadata": {},
     "output_type": "execute_result"
    }
   ],
   "source": [
    "Li_mag"
   ]
  },
  {
   "cell_type": "code",
   "execution_count": 18,
   "metadata": {},
   "outputs": [
    {
     "data": {
      "text/plain": [
       "(array([58., 64.,  1.,  0.,  0.,  0.,  0.,  0.,  0.,  1.]),\n",
       " array([-1.82591096, -0.82602499,  0.17386098,  1.17374696,  2.17363293,\n",
       "         3.1735189 ,  4.17340487,  5.17329085,  6.17317682,  7.17306279,\n",
       "         8.17294876]),\n",
       " <BarContainer object of 10 artists>)"
      ]
     },
     "execution_count": 18,
     "metadata": {},
     "output_type": "execute_result"
    },
    {
     "data": {
      "image/png": "[encoded data removed]",
      "text/plain": [
       "<Figure size 502.117x502.117 with 1 Axes>"
      ]
     },
     "metadata": {
      "needs_background": "light"
     },
     "output_type": "display_data"
    }
   ],
   "source": [
    "logR_mag = Lrad - Li_mag\n",
    "plt.hist(logR_mag)"
   ]
  },
  {
   "cell_type": "code",
   "execution_count": 19,
   "metadata": {},
   "outputs": [
    {
     "name": "stdout",
     "output_type": "stream",
     "text": [
      "Median computed directly from i-band flux densities: logR = -0.81\n",
      "Median computed from Mi(z=2) and Richards+2006 Eq 4: logR = -0.80\n"
     ]
    }
   ],
   "source": [
    "print(\"Median computed directly from i-band flux densities: logR = %.2f\" % np.median(logR))\n",
    "print(\"Median computed from Mi(z=2) and Richards+2006 Eq 4: logR = %.2f\" % np.nanmedian(logR_mag))"
   ]
  },
  {
   "cell_type": "code",
   "execution_count": 22,
   "metadata": {},
   "outputs": [
    {
     "data": {
      "text/plain": [
       "0.1548816618912481"
      ]
     },
     "execution_count": 22,
     "metadata": {},
     "output_type": "execute_result"
    }
   ],
   "source": [
    "10**(-0.81)"
   ]
  },
  {
   "cell_type": "markdown",
   "metadata": {},
   "source": [
    "Good!  What's the typical optical luminosity at $z=0.25$?"
   ]
  },
  {
   "cell_type": "code",
   "execution_count": 23,
   "metadata": {},
   "outputs": [
    {
     "data": {
      "text/plain": [
       "23.002008778661818"
      ]
     },
     "execution_count": 23,
     "metadata": {},
     "output_type": "execute_result"
    }
   ],
   "source": [
    "luminosity(1200000., 1200000., np.median(Si), -0.5, 0.25)"
   ]
  },
  {
   "cell_type": "code",
   "execution_count": null,
   "metadata": {},
   "outputs": [],
   "source": []
  }
 ],
 "metadata": {
  "kernelspec": {
   "display_name": "Python 3",
   "language": "python",
   "name": "python3"
  },
  "language_info": {
   "codemirror_mode": {
    "name": "ipython",
    "version": 3
   },
   "file_extension": ".py",
   "mimetype": "text/x-python",
   "name": "python",
   "nbconvert_exporter": "python",
   "pygments_lexer": "ipython3",
   "version": "3.6.10"
  }
 },
 "nbformat": 4,
 "nbformat_minor": 4
}
