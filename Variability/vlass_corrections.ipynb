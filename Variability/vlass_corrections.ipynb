{
 "cells": [
  {
   "cell_type": "markdown",
   "metadata": {},
   "source": [
    "I've returned after reading VLASS memo 13 on flux density reliability and found that the following corrections need to be applied to measured VLASS flux densities:\n",
    "\n",
    "* Above 1 Jy in VLASS 1.1, the flux densities can be very unreliable and should not be used -- this doesn't affect any of our targets\n",
    "\n",
    "* For flux densities below 1 Jy:\n",
    "    * Peaks are systematically low by $\\approx15\\%$ in VLASS 1.1\n",
    "    * Peaks are systematically low by $\\approx8\\%$ in VLASS 1.2\n",
    "    * There is a scatter of $\\pm8\\%$ from their true value\n",
    "    \n",
    "\n",
    "From the Nyland et al. paper, I got the impression that these errors were actually closer to $\\approx20\\%$ across the board for VLASS... but this is better since our analysis should now be more reliable!\n",
    "\n",
    "\n",
    "What I already did was add the 20% uncertainty in quadrature with the uncertainty given by imfit.  So to save accurate flux densities and errors I need to:\n",
    "\n",
    "* Undo the $20\\%$ error added in quadrature from \"S3_quaderr\"\n",
    "\n",
    "* Get the date of the observation - if year<2019 $\\rightarrow$ VLASS 1.1 and increase flux $15\\%$; else $\\rightarrow$ VLASS 1.2 and should increase $8\\%$\n",
    "\n",
    "* Adjust error to match the fraction of new flux density\n",
    "\n",
    "* Add back in an $8\\%$ error in quadrature\n",
    "\n",
    "* Save new VLASS uncertainty (will to luminosities etc. in another notebook)"
   ]
  },
  {
   "cell_type": "code",
   "execution_count": 26,
   "metadata": {},
   "outputs": [],
   "source": [
    "import numpy as np\n",
    "import pandas as pd\n",
    "import matplotlib.pyplot as plt\n",
    "import richardsplot\n",
    "import datetime as dt"
   ]
  },
  {
   "cell_type": "code",
   "execution_count": 28,
   "metadata": {},
   "outputs": [
    {
     "data": {
      "text/html": [
       "<div>\n",
       "<style scoped>\n",
       "    .dataframe tbody tr th:only-of-type {\n",
       "        vertical-align: middle;\n",
       "    }\n",
       "\n",
       "    .dataframe tbody tr th {\n",
       "        vertical-align: top;\n",
       "    }\n",
       "\n",
       "    .dataframe thead th {\n",
       "        text-align: right;\n",
       "    }\n",
       "</style>\n",
       "<table border=\"1\" class=\"dataframe\">\n",
       "  <thead>\n",
       "    <tr style=\"text-align: right;\">\n",
       "      <th></th>\n",
       "      <th>Name</th>\n",
       "      <th>z</th>\n",
       "      <th>S1p4_FIRST</th>\n",
       "      <th>S1p4_err</th>\n",
       "      <th>L6_FIRST</th>\n",
       "      <th>L6_FIRST_alpha0</th>\n",
       "      <th>DATE_FIRST</th>\n",
       "      <th>S3_VLASS</th>\n",
       "      <th>S3_quaderr</th>\n",
       "      <th>L6_VLASS</th>\n",
       "      <th>...</th>\n",
       "      <th>DATE_VLASS</th>\n",
       "      <th>S(6)_p</th>\n",
       "      <th>pmp</th>\n",
       "      <th>DATE_VLAC</th>\n",
       "      <th>S6_Aconfig</th>\n",
       "      <th>S6_Aconfig_err</th>\n",
       "      <th>DATE_VLAA</th>\n",
       "      <th>CLASS</th>\n",
       "      <th>S3_VLASS_final</th>\n",
       "      <th>S3_quaderr_final</th>\n",
       "    </tr>\n",
       "  </thead>\n",
       "  <tbody>\n",
       "    <tr>\n",
       "      <th>0</th>\n",
       "      <td>075403.60+481428.0</td>\n",
       "      <td>0.276</td>\n",
       "      <td>7910</td>\n",
       "      <td>160</td>\n",
       "      <td>23.80</td>\n",
       "      <td>24.17</td>\n",
       "      <td>1997-04-10</td>\n",
       "      <td>4070.0</td>\n",
       "      <td>820.0</td>\n",
       "      <td>23.74</td>\n",
       "      <td>...</td>\n",
       "      <td>2019-05-10</td>\n",
       "      <td>2631.0</td>\n",
       "      <td>84.8</td>\n",
       "      <td>2011-1-15</td>\n",
       "      <td>NaN</td>\n",
       "      <td>NaN</td>\n",
       "      <td>NaN</td>\n",
       "      <td>RI</td>\n",
       "      <td>4395.6</td>\n",
       "      <td>952.860785</td>\n",
       "    </tr>\n",
       "    <tr>\n",
       "      <th>1</th>\n",
       "      <td>083658.90+442602.2</td>\n",
       "      <td>0.254</td>\n",
       "      <td>9150</td>\n",
       "      <td>120</td>\n",
       "      <td>23.78</td>\n",
       "      <td>24.15</td>\n",
       "      <td>1997-02-28</td>\n",
       "      <td>3940.0</td>\n",
       "      <td>805.0</td>\n",
       "      <td>23.65</td>\n",
       "      <td>...</td>\n",
       "      <td>2019-05-24</td>\n",
       "      <td>2596.0</td>\n",
       "      <td>79.0</td>\n",
       "      <td>2011-1-15</td>\n",
       "      <td>NaN</td>\n",
       "      <td>NaN</td>\n",
       "      <td>NaN</td>\n",
       "      <td>RI</td>\n",
       "      <td>4255.2</td>\n",
       "      <td>933.669863</td>\n",
       "    </tr>\n",
       "    <tr>\n",
       "      <th>2</th>\n",
       "      <td>091702.11+212337.5</td>\n",
       "      <td>0.202</td>\n",
       "      <td>4190</td>\n",
       "      <td>130</td>\n",
       "      <td>23.23</td>\n",
       "      <td>23.61</td>\n",
       "      <td>1998-09-15</td>\n",
       "      <td>4190.0</td>\n",
       "      <td>850.0</td>\n",
       "      <td>23.46</td>\n",
       "      <td>...</td>\n",
       "      <td>2019-04-22</td>\n",
       "      <td>4790.0</td>\n",
       "      <td>144.4</td>\n",
       "      <td>2011-1-15</td>\n",
       "      <td>NaN</td>\n",
       "      <td>NaN</td>\n",
       "      <td>NaN</td>\n",
       "      <td>RI</td>\n",
       "      <td>4525.2</td>\n",
       "      <td>986.802708</td>\n",
       "    </tr>\n",
       "    <tr>\n",
       "      <th>3</th>\n",
       "      <td>094215.12+090015.8</td>\n",
       "      <td>0.213</td>\n",
       "      <td>1690</td>\n",
       "      <td>130</td>\n",
       "      <td>22.88</td>\n",
       "      <td>23.27</td>\n",
       "      <td>2000-01-15</td>\n",
       "      <td>1300.0</td>\n",
       "      <td>279.0</td>\n",
       "      <td>23.00</td>\n",
       "      <td>...</td>\n",
       "      <td>2017-10-02</td>\n",
       "      <td>1162.0</td>\n",
       "      <td>38.4</td>\n",
       "      <td>2011-1-15</td>\n",
       "      <td>NaN</td>\n",
       "      <td>NaN</td>\n",
       "      <td>NaN</td>\n",
       "      <td>RI</td>\n",
       "      <td>1495.0</td>\n",
       "      <td>342.416242</td>\n",
       "    </tr>\n",
       "    <tr>\n",
       "      <th>4</th>\n",
       "      <td>094603.94+013923.6</td>\n",
       "      <td>0.220</td>\n",
       "      <td>7330</td>\n",
       "      <td>150</td>\n",
       "      <td>23.55</td>\n",
       "      <td>23.93</td>\n",
       "      <td>1998-07-24</td>\n",
       "      <td>3810.0</td>\n",
       "      <td>773.0</td>\n",
       "      <td>23.50</td>\n",
       "      <td>...</td>\n",
       "      <td>2018-01-02</td>\n",
       "      <td>2471.0</td>\n",
       "      <td>76.1</td>\n",
       "      <td>2011-1-15</td>\n",
       "      <td>NaN</td>\n",
       "      <td>NaN</td>\n",
       "      <td>NaN</td>\n",
       "      <td>RI</td>\n",
       "      <td>4381.5</td>\n",
       "      <td>955.560764</td>\n",
       "    </tr>\n",
       "    <tr>\n",
       "      <th>...</th>\n",
       "      <td>...</td>\n",
       "      <td>...</td>\n",
       "      <td>...</td>\n",
       "      <td>...</td>\n",
       "      <td>...</td>\n",
       "      <td>...</td>\n",
       "      <td>...</td>\n",
       "      <td>...</td>\n",
       "      <td>...</td>\n",
       "      <td>...</td>\n",
       "      <td>...</td>\n",
       "      <td>...</td>\n",
       "      <td>...</td>\n",
       "      <td>...</td>\n",
       "      <td>...</td>\n",
       "      <td>...</td>\n",
       "      <td>...</td>\n",
       "      <td>...</td>\n",
       "      <td>...</td>\n",
       "      <td>...</td>\n",
       "      <td>...</td>\n",
       "    </tr>\n",
       "    <tr>\n",
       "      <th>65</th>\n",
       "      <td>145824.46+363119.5</td>\n",
       "      <td>0.246</td>\n",
       "      <td>495</td>\n",
       "      <td>0</td>\n",
       "      <td>22.49</td>\n",
       "      <td>22.86</td>\n",
       "      <td>1994-07-17</td>\n",
       "      <td>NaN</td>\n",
       "      <td>NaN</td>\n",
       "      <td>22.67</td>\n",
       "      <td>...</td>\n",
       "      <td>2017-11-10</td>\n",
       "      <td>167.0</td>\n",
       "      <td>9.4</td>\n",
       "      <td>2010-12-25</td>\n",
       "      <td>207.0</td>\n",
       "      <td>31.000000</td>\n",
       "      <td>2019-09-20</td>\n",
       "      <td>RQ</td>\n",
       "      <td>NaN</td>\n",
       "      <td>NaN</td>\n",
       "    </tr>\n",
       "    <tr>\n",
       "      <th>66</th>\n",
       "      <td>084313.41+535718.8</td>\n",
       "      <td>0.218</td>\n",
       "      <td>516</td>\n",
       "      <td>150</td>\n",
       "      <td>22.39</td>\n",
       "      <td>22.77</td>\n",
       "      <td>1997-05-07</td>\n",
       "      <td>NaN</td>\n",
       "      <td>NaN</td>\n",
       "      <td>22.45</td>\n",
       "      <td>...</td>\n",
       "      <td>2017-09-26</td>\n",
       "      <td>410.0</td>\n",
       "      <td>14.7</td>\n",
       "      <td>2010-12-26</td>\n",
       "      <td>349.0</td>\n",
       "      <td>31.000000</td>\n",
       "      <td>2019-08-13</td>\n",
       "      <td>RQ</td>\n",
       "      <td>NaN</td>\n",
       "      <td>NaN</td>\n",
       "    </tr>\n",
       "    <tr>\n",
       "      <th>67</th>\n",
       "      <td>123532.83+410445.1</td>\n",
       "      <td>0.212</td>\n",
       "      <td>510</td>\n",
       "      <td>0</td>\n",
       "      <td>22.35</td>\n",
       "      <td>22.74</td>\n",
       "      <td>1994-09-02</td>\n",
       "      <td>NaN</td>\n",
       "      <td>NaN</td>\n",
       "      <td>22.50</td>\n",
       "      <td>...</td>\n",
       "      <td>2019-04-15</td>\n",
       "      <td>266.0</td>\n",
       "      <td>16.1</td>\n",
       "      <td>2010-12-27</td>\n",
       "      <td>554.0</td>\n",
       "      <td>67.000000</td>\n",
       "      <td>2019-08-13</td>\n",
       "      <td>RQ</td>\n",
       "      <td>NaN</td>\n",
       "      <td>NaN</td>\n",
       "    </tr>\n",
       "    <tr>\n",
       "      <th>68</th>\n",
       "      <td>161723.67+085414.7</td>\n",
       "      <td>0.206</td>\n",
       "      <td>450</td>\n",
       "      <td>0</td>\n",
       "      <td>22.28</td>\n",
       "      <td>22.66</td>\n",
       "      <td>2000-01-15</td>\n",
       "      <td>NaN</td>\n",
       "      <td>NaN</td>\n",
       "      <td>22.59</td>\n",
       "      <td>...</td>\n",
       "      <td>2019-03-18</td>\n",
       "      <td>381.0</td>\n",
       "      <td>15.2</td>\n",
       "      <td>2010-12-28</td>\n",
       "      <td>386.7</td>\n",
       "      <td>18.164801</td>\n",
       "      <td>2019-08-20</td>\n",
       "      <td>RQ</td>\n",
       "      <td>NaN</td>\n",
       "      <td>NaN</td>\n",
       "    </tr>\n",
       "    <tr>\n",
       "      <th>69</th>\n",
       "      <td>142522.37+080327.1</td>\n",
       "      <td>0.230</td>\n",
       "      <td>366</td>\n",
       "      <td>0</td>\n",
       "      <td>21.81</td>\n",
       "      <td>22.19</td>\n",
       "      <td>2000-01-15</td>\n",
       "      <td>NaN</td>\n",
       "      <td>NaN</td>\n",
       "      <td>22.04</td>\n",
       "      <td>...</td>\n",
       "      <td>2019-05-08</td>\n",
       "      <td>138.0</td>\n",
       "      <td>6.5</td>\n",
       "      <td>2010-12-29</td>\n",
       "      <td>220.0</td>\n",
       "      <td>15.000000</td>\n",
       "      <td>2019-08-17</td>\n",
       "      <td>RQ</td>\n",
       "      <td>NaN</td>\n",
       "      <td>NaN</td>\n",
       "    </tr>\n",
       "  </tbody>\n",
       "</table>\n",
       "<p>70 rows × 21 columns</p>\n",
       "</div>"
      ],
      "text/plain": [
       "                  Name      z  S1p4_FIRST  S1p4_err  L6_FIRST  \\\n",
       "0   075403.60+481428.0  0.276        7910       160     23.80   \n",
       "1   083658.90+442602.2  0.254        9150       120     23.78   \n",
       "2   091702.11+212337.5  0.202        4190       130     23.23   \n",
       "3   094215.12+090015.8  0.213        1690       130     22.88   \n",
       "4   094603.94+013923.6  0.220        7330       150     23.55   \n",
       "..                 ...    ...         ...       ...       ...   \n",
       "65  145824.46+363119.5  0.246         495         0     22.49   \n",
       "66  084313.41+535718.8  0.218         516       150     22.39   \n",
       "67  123532.83+410445.1  0.212         510         0     22.35   \n",
       "68  161723.67+085414.7  0.206         450         0     22.28   \n",
       "69  142522.37+080327.1  0.230         366         0     21.81   \n",
       "\n",
       "    L6_FIRST_alpha0  DATE_FIRST  S3_VLASS  S3_quaderr  L6_VLASS  ...  \\\n",
       "0             24.17  1997-04-10    4070.0       820.0     23.74  ...   \n",
       "1             24.15  1997-02-28    3940.0       805.0     23.65  ...   \n",
       "2             23.61  1998-09-15    4190.0       850.0     23.46  ...   \n",
       "3             23.27  2000-01-15    1300.0       279.0     23.00  ...   \n",
       "4             23.93  1998-07-24    3810.0       773.0     23.50  ...   \n",
       "..              ...         ...       ...         ...       ...  ...   \n",
       "65            22.86  1994-07-17       NaN         NaN     22.67  ...   \n",
       "66            22.77  1997-05-07       NaN         NaN     22.45  ...   \n",
       "67            22.74  1994-09-02       NaN         NaN     22.50  ...   \n",
       "68            22.66  2000-01-15       NaN         NaN     22.59  ...   \n",
       "69            22.19  2000-01-15       NaN         NaN     22.04  ...   \n",
       "\n",
       "    DATE_VLASS  S(6)_p    pmp   DATE_VLAC S6_Aconfig  S6_Aconfig_err  \\\n",
       "0   2019-05-10  2631.0   84.8   2011-1-15        NaN             NaN   \n",
       "1   2019-05-24  2596.0   79.0   2011-1-15        NaN             NaN   \n",
       "2   2019-04-22  4790.0  144.4   2011-1-15        NaN             NaN   \n",
       "3   2017-10-02  1162.0   38.4   2011-1-15        NaN             NaN   \n",
       "4   2018-01-02  2471.0   76.1   2011-1-15        NaN             NaN   \n",
       "..         ...     ...    ...         ...        ...             ...   \n",
       "65  2017-11-10   167.0    9.4  2010-12-25      207.0       31.000000   \n",
       "66  2017-09-26   410.0   14.7  2010-12-26      349.0       31.000000   \n",
       "67  2019-04-15   266.0   16.1  2010-12-27      554.0       67.000000   \n",
       "68  2019-03-18   381.0   15.2  2010-12-28      386.7       18.164801   \n",
       "69  2019-05-08   138.0    6.5  2010-12-29      220.0       15.000000   \n",
       "\n",
       "     DATE_VLAA CLASS S3_VLASS_final  S3_quaderr_final  \n",
       "0          NaN    RI         4395.6        952.860785  \n",
       "1          NaN    RI         4255.2        933.669863  \n",
       "2          NaN    RI         4525.2        986.802708  \n",
       "3          NaN    RI         1495.0        342.416242  \n",
       "4          NaN    RI         4381.5        955.560764  \n",
       "..         ...   ...            ...               ...  \n",
       "65  2019-09-20    RQ            NaN               NaN  \n",
       "66  2019-08-13    RQ            NaN               NaN  \n",
       "67  2019-08-13    RQ            NaN               NaN  \n",
       "68  2019-08-20    RQ            NaN               NaN  \n",
       "69  2019-08-17    RQ            NaN               NaN  \n",
       "\n",
       "[70 rows x 21 columns]"
      ]
     },
     "execution_count": 28,
     "metadata": {},
     "output_type": "execute_result"
    }
   ],
   "source": [
    "df = pd.read_csv(\"all_var_figs.csv\")\n",
    "df"
   ]
  },
  {
   "cell_type": "code",
   "execution_count": 19,
   "metadata": {},
   "outputs": [],
   "source": [
    "S_vlass = df[[\"S3_VLASS\"]].values.flatten()\n",
    "Serr_vlass = df[[\"S3_quaderr\"]].values.flatten()\n",
    "vlass_dates = df[[\"DATE_VLASS\"]].values.flatten()"
   ]
  },
  {
   "cell_type": "code",
   "execution_count": 9,
   "metadata": {},
   "outputs": [
    {
     "data": {
      "text/plain": [
       "array([  820.,   805.,   850.,   279.,   773.,     0.,   220.,   240.,\n",
       "         250.,   205.,   216.,   650.,   110.,   485.,   180.,   480.,\n",
       "         225.,   400.,   360.,   400.,   400.,   292.,   166.,   290.,\n",
       "         585.,   288.,   405., 37000.,   650., 11320.,  1650.,   950.,\n",
       "        5650.,  5520.,  2800.,  2900., 73000.,  1150.,  5270.,  1500.,\n",
       "        6900.,    nan,    nan,    nan,    nan,    nan,    nan,    nan,\n",
       "          nan,    nan,    nan,    nan,    nan,    nan,    nan,    nan,\n",
       "          nan,    nan,    nan,    nan,    nan,    nan,    nan,    nan,\n",
       "          nan,    nan,    nan,    nan,    nan,    nan])"
      ]
     },
     "execution_count": 9,
     "metadata": {},
     "output_type": "execute_result"
    }
   ],
   "source": [
    "Serr_vlass"
   ]
  },
  {
   "cell_type": "code",
   "execution_count": 14,
   "metadata": {},
   "outputs": [
    {
     "data": {
      "text/plain": [
       "<matplotlib.collections.PathCollection at 0x123a94e80>"
      ]
     },
     "execution_count": 14,
     "metadata": {},
     "output_type": "execute_result"
    },
    {
     "data": {
      "image/png": "[encoded data removed]",
      "text/plain": [
       "<Figure size 502.117x502.117 with 1 Axes>"
      ]
     },
     "metadata": {
      "needs_background": "light"
     },
     "output_type": "display_data"
    }
   ],
   "source": [
    "plt.scatter(S_vlass, Serr_vlass)\n",
    "\n",
    "#plt.xscale(\"log\")\n",
    "#plt.yscale(\"log\")"
   ]
  },
  {
   "cell_type": "markdown",
   "metadata": {},
   "source": [
    "The following formula give the VLASS error prior to adding the $20\\%$ error in quadrature:\n",
    "\n",
    "$$ \\epsilon = [\\epsilon'^2 - (0.2S_{3})^2]^{1/2} $$"
   ]
  },
  {
   "cell_type": "code",
   "execution_count": 15,
   "metadata": {},
   "outputs": [
    {
     "name": "stderr",
     "output_type": "stream",
     "text": [
      "/Users/trevormccaffrey/anaconda3/lib/python3.6/site-packages/ipykernel_launcher.py:3: RuntimeWarning: invalid value encountered in sqrt\n",
      "  This is separate from the ipykernel package so we can avoid doing imports until\n"
     ]
    },
    {
     "data": {
      "text/plain": [
       "<matplotlib.collections.PathCollection at 0x123c37c88>"
      ]
     },
     "execution_count": 15,
     "metadata": {},
     "output_type": "execute_result"
    },
    {
     "data": {
      "image/png": "[encoded data removed]",
      "text/plain": [
       "<Figure size 502.117x502.117 with 1 Axes>"
      ]
     },
     "metadata": {
      "needs_background": "light"
     },
     "output_type": "display_data"
    }
   ],
   "source": [
    "for i in range(len(S_vlass)):\n",
    "    #ignore the nans and non-detections\n",
    "    if Serr_vlass[i]>0:\n",
    "        Serr_vlass[i] = np.sqrt(Serr_vlass[i]**2 - (0.2*S_vlass[i])**2)\n",
    "        \n",
    "Serr_vlass\n",
    "\n",
    "plt.scatter(S_vlass, Serr_vlass)"
   ]
  },
  {
   "cell_type": "markdown",
   "metadata": {},
   "source": [
    "Now that the extra $20\\%$ error has been removed, can check which half of epoch 1 each target was observed in and apply the appropriate correction"
   ]
  },
  {
   "cell_type": "code",
   "execution_count": 22,
   "metadata": {},
   "outputs": [],
   "source": [
    "for i in range(len(S_vlass)):\n",
    "    #ignore the nans and non-detections\n",
    "    if Serr_vlass[i]>0:\n",
    "        \n",
    "        #year obs. determines which half of epoch, which determines which correction \n",
    "        year = dt.datetime.strptime(vlass_dates[i],'%Y-%m-%d').date().year\n",
    "        #save \"previous\" flux to compare with updated version\n",
    "        Sp = S_vlass[i] \n",
    "        \n",
    "        if year < 2019:\n",
    "            #VLASS 1.1 peaks are systematically low by ~15%\n",
    "            S_vlass[i] *= 1.15\n",
    "            \n",
    "        else:\n",
    "            #VLASS 1.2 peaks are systematically low by ~8%\n",
    "            S_vlass[i] *= 1.08\n",
    "         \n",
    "        #Adjust error without VLASS uncertainty in quadrature to match previous \n",
    "        #fraction of source's flux density\n",
    "        Serr_vlass[i] = S_vlass[i] * (Serr_vlass[i]/Sp)\n",
    "        \n",
    "        #Regardless, there is a (conservative) ±8% scatter to add in quadrature\n",
    "        Serr_vlass[i] = np.sqrt(Serr_vlass[i]**2 + (0.08*S_vlass[i])**2)"
   ]
  },
  {
   "cell_type": "code",
   "execution_count": 23,
   "metadata": {},
   "outputs": [
    {
     "data": {
      "text/plain": [
       "<matplotlib.collections.PathCollection at 0x1239d9128>"
      ]
     },
     "execution_count": 23,
     "metadata": {},
     "output_type": "execute_result"
    },
    {
     "data": {
      "image/png": "[encoded data removed]",
      "text/plain": [
       "<Figure size 502.117x502.117 with 1 Axes>"
      ]
     },
     "metadata": {
      "needs_background": "light"
     },
     "output_type": "display_data"
    }
   ],
   "source": [
    "plt.scatter(S_vlass, Serr_vlass)"
   ]
  },
  {
   "cell_type": "code",
   "execution_count": 24,
   "metadata": {},
   "outputs": [],
   "source": [
    "df[\"S3_VLASS_final\"] = S_vlass\n",
    "df[\"S3_quaderr_final\"] = Serr_vlass\n",
    "df.to_csv(\"all_var_figs.csv\", index=False)"
   ]
  },
  {
   "cell_type": "markdown",
   "metadata": {},
   "source": [
    "Done on 9/1/2020"
   ]
  }
 ],
 "metadata": {
  "kernelspec": {
   "display_name": "Python 3",
   "language": "python",
   "name": "python3"
  },
  "language_info": {
   "codemirror_mode": {
    "name": "ipython",
    "version": 3
   },
   "file_extension": ".py",
   "mimetype": "text/x-python",
   "name": "python",
   "nbconvert_exporter": "python",
   "pygments_lexer": "ipython3",
   "version": "3.6.10"
  }
 },
 "nbformat": 4,
 "nbformat_minor": 4
}
