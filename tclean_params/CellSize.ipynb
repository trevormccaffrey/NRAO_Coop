{
 "cells": [
  {
   "cell_type": "markdown",
   "metadata": {},
   "source": [
    "Test how measurements in first 10 images change when using different cell sizes.\n",
    "\n",
    "The size of the VLA's A-config synthesized beam in the C-band is $\\sim0.33''$"
   ]
  },
  {
   "cell_type": "code",
   "execution_count": 38,
   "metadata": {},
   "outputs": [],
   "source": [
    "import matplotlib.pyplot as plt\n",
    "import richardsplot\n",
    "import pandas as pd\n",
    "import numpy as np"
   ]
  },
  {
   "cell_type": "code",
   "execution_count": 39,
   "metadata": {},
   "outputs": [],
   "source": [
    "df = pd.read_csv(\"RQQfigs.csv\", skiprows=range(1,9))"
   ]
  },
  {
   "cell_type": "code",
   "execution_count": 40,
   "metadata": {},
   "outputs": [
    {
     "data": {
      "text/html": [
       "<div>\n",
       "<style scoped>\n",
       "    .dataframe tbody tr th:only-of-type {\n",
       "        vertical-align: middle;\n",
       "    }\n",
       "\n",
       "    .dataframe tbody tr th {\n",
       "        vertical-align: top;\n",
       "    }\n",
       "\n",
       "    .dataframe thead th {\n",
       "        text-align: right;\n",
       "    }\n",
       "</style>\n",
       "<table border=\"1\" class=\"dataframe\">\n",
       "  <thead>\n",
       "    <tr style=\"text-align: right;\">\n",
       "      <th></th>\n",
       "      <th>Name</th>\n",
       "      <th>RMS</th>\n",
       "      <th>PF</th>\n",
       "      <th>IF</th>\n",
       "      <th>S/N</th>\n",
       "      <th>RMS_cell01</th>\n",
       "      <th>PF_cell01</th>\n",
       "      <th>IF_cell01</th>\n",
       "      <th>Morph</th>\n",
       "      <th>SelfCal</th>\n",
       "      <th>Flags</th>\n",
       "      <th>Unnamed: 11</th>\n",
       "    </tr>\n",
       "  </thead>\n",
       "  <tbody>\n",
       "    <tr>\n",
       "      <th>0</th>\n",
       "      <td>0944+3608</td>\n",
       "      <td>6.4</td>\n",
       "      <td>38.0</td>\n",
       "      <td>51.0</td>\n",
       "      <td>5.937500</td>\n",
       "      <td>6.6</td>\n",
       "      <td>38.0</td>\n",
       "      <td>44.0</td>\n",
       "      <td>1.0</td>\n",
       "      <td>0</td>\n",
       "      <td>0.0</td>\n",
       "      <td>NaN</td>\n",
       "    </tr>\n",
       "    <tr>\n",
       "      <th>1</th>\n",
       "      <td>0950+3926</td>\n",
       "      <td>7.2</td>\n",
       "      <td>155.0</td>\n",
       "      <td>162.0</td>\n",
       "      <td>21.527778</td>\n",
       "      <td>7.0</td>\n",
       "      <td>156.0</td>\n",
       "      <td>170.0</td>\n",
       "      <td>0.0</td>\n",
       "      <td>0</td>\n",
       "      <td>0.0</td>\n",
       "      <td>NaN</td>\n",
       "    </tr>\n",
       "    <tr>\n",
       "      <th>2</th>\n",
       "      <td>1000+1047</td>\n",
       "      <td>7.5</td>\n",
       "      <td>498.0</td>\n",
       "      <td>538.0</td>\n",
       "      <td>66.400000</td>\n",
       "      <td>8.3</td>\n",
       "      <td>498.0</td>\n",
       "      <td>533.0</td>\n",
       "      <td>0.0</td>\n",
       "      <td>NaN</td>\n",
       "      <td>NaN</td>\n",
       "      <td>NaN</td>\n",
       "    </tr>\n",
       "    <tr>\n",
       "      <th>3</th>\n",
       "      <td>1007+5007</td>\n",
       "      <td>7.9</td>\n",
       "      <td>43.0</td>\n",
       "      <td>56.0</td>\n",
       "      <td>5.443038</td>\n",
       "      <td>7.8</td>\n",
       "      <td>47.0</td>\n",
       "      <td>56.0</td>\n",
       "      <td>1.0</td>\n",
       "      <td>NaN</td>\n",
       "      <td>NaN</td>\n",
       "      <td>NaN</td>\n",
       "    </tr>\n",
       "    <tr>\n",
       "      <th>4</th>\n",
       "      <td>1034+6053</td>\n",
       "      <td>NaN</td>\n",
       "      <td>NaN</td>\n",
       "      <td>NaN</td>\n",
       "      <td>NaN</td>\n",
       "      <td>NaN</td>\n",
       "      <td>NaN</td>\n",
       "      <td>NaN</td>\n",
       "      <td>NaN</td>\n",
       "      <td>SelfCal</td>\n",
       "      <td>NaN</td>\n",
       "      <td>NaN</td>\n",
       "    </tr>\n",
       "    <tr>\n",
       "      <th>5</th>\n",
       "      <td>1040+6002</td>\n",
       "      <td>4.4</td>\n",
       "      <td>15.0</td>\n",
       "      <td>25.0</td>\n",
       "      <td>3.409091</td>\n",
       "      <td>3.8</td>\n",
       "      <td>13.0</td>\n",
       "      <td>11.0</td>\n",
       "      <td>1.0</td>\n",
       "      <td>NaN</td>\n",
       "      <td>NaN</td>\n",
       "      <td>NaN</td>\n",
       "    </tr>\n",
       "    <tr>\n",
       "      <th>6</th>\n",
       "      <td>1041+2828</td>\n",
       "      <td>7.1</td>\n",
       "      <td>94.0</td>\n",
       "      <td>108.0</td>\n",
       "      <td>13.239437</td>\n",
       "      <td>7.3</td>\n",
       "      <td>96.0</td>\n",
       "      <td>120.0</td>\n",
       "      <td>1.0</td>\n",
       "      <td>NaN</td>\n",
       "      <td>NaN</td>\n",
       "      <td>NaN</td>\n",
       "    </tr>\n",
       "    <tr>\n",
       "      <th>7</th>\n",
       "      <td>1045+2933</td>\n",
       "      <td>6.5</td>\n",
       "      <td>266.0</td>\n",
       "      <td>299.0</td>\n",
       "      <td>40.923077</td>\n",
       "      <td>10.5</td>\n",
       "      <td>270.0</td>\n",
       "      <td>309.0</td>\n",
       "      <td>1.0</td>\n",
       "      <td>NaN</td>\n",
       "      <td>NaN</td>\n",
       "      <td>NaN</td>\n",
       "    </tr>\n",
       "    <tr>\n",
       "      <th>8</th>\n",
       "      <td>1045+5202</td>\n",
       "      <td>7.0</td>\n",
       "      <td>134.0</td>\n",
       "      <td>150.0</td>\n",
       "      <td>19.142857</td>\n",
       "      <td>7.3</td>\n",
       "      <td>137.0</td>\n",
       "      <td>160.0</td>\n",
       "      <td>1.0</td>\n",
       "      <td>NaN</td>\n",
       "      <td>NaN</td>\n",
       "      <td>NaN</td>\n",
       "    </tr>\n",
       "  </tbody>\n",
       "</table>\n",
       "</div>"
      ],
      "text/plain": [
       "        Name  RMS     PF     IF        S/N  RMS_cell01  PF_cell01  IF_cell01  \\\n",
       "0  0944+3608  6.4   38.0   51.0   5.937500         6.6       38.0       44.0   \n",
       "1  0950+3926  7.2  155.0  162.0  21.527778         7.0      156.0      170.0   \n",
       "2  1000+1047  7.5  498.0  538.0  66.400000         8.3      498.0      533.0   \n",
       "3  1007+5007  7.9   43.0   56.0   5.443038         7.8       47.0       56.0   \n",
       "4  1034+6053  NaN    NaN    NaN        NaN         NaN        NaN        NaN   \n",
       "5  1040+6002  4.4   15.0   25.0   3.409091         3.8       13.0       11.0   \n",
       "6  1041+2828  7.1   94.0  108.0  13.239437         7.3       96.0      120.0   \n",
       "7  1045+2933  6.5  266.0  299.0  40.923077        10.5      270.0      309.0   \n",
       "8  1045+5202  7.0  134.0  150.0  19.142857         7.3      137.0      160.0   \n",
       "\n",
       "   Morph  SelfCal  Flags  Unnamed: 11  \n",
       "0    1.0        0    0.0          NaN  \n",
       "1    0.0        0    0.0          NaN  \n",
       "2    0.0      NaN    NaN          NaN  \n",
       "3    1.0      NaN    NaN          NaN  \n",
       "4    NaN  SelfCal    NaN          NaN  \n",
       "5    1.0      NaN    NaN          NaN  \n",
       "6    1.0      NaN    NaN          NaN  \n",
       "7    1.0      NaN    NaN          NaN  \n",
       "8    1.0      NaN    NaN          NaN  "
      ]
     },
     "execution_count": 40,
     "metadata": {},
     "output_type": "execute_result"
    }
   ],
   "source": [
    "df"
   ]
  },
  {
   "cell_type": "code",
   "execution_count": 41,
   "metadata": {},
   "outputs": [],
   "source": [
    "cell01_pf = df[['PF_cell01']].values\n",
    "cell01_if = df[['IF_cell01']].values\n",
    "\n",
    "cell06_pf = df[['PF']].values\n",
    "cell06_if = df[['IF']].values"
   ]
  },
  {
   "cell_type": "code",
   "execution_count": 42,
   "metadata": {},
   "outputs": [
    {
     "data": {
      "text/plain": [
       "<matplotlib.legend.Legend at 0x11abc69b0>"
      ]
     },
     "execution_count": 42,
     "metadata": {},
     "output_type": "execute_result"
    },
    {
     "data": {
      "image/png": "[encoded data removed]",
      "text/plain": [
       "<Figure size 864x1152 with 2 Axes>"
      ]
     },
     "metadata": {
      "needs_background": "light"
     },
     "output_type": "display_data"
    }
   ],
   "source": [
    "fig, axs = plt.subplots(2, 1, figsize = (12,16))\n",
    "\n",
    "axs[0].scatter(range(1,10), cell01_pf, c='r', s=100, alpha=0.5, label = \"Cell = 0.01arcsec/pixel\")\n",
    "axs[0].scatter(range(1,10), cell06_pf, facecolors=\"None\", edgecolors='b', s=100, label = \"Cell = 0.06arcsec/pixel\")\n",
    "axs[0].set_yscale(\"log\")\n",
    "axs[0].set_ylabel(\"Peak Flux ($\\mu Jy/b$)\")\n",
    "axs[0].set_xlabel(\"Arbitrary Object ID Numbers\")\n",
    "axs[0].legend(loc=\"best\")\n",
    "\n",
    "axs[1].scatter(range(1,10), cell01_if, c='r', s=100, alpha=0.5, label = \"Cell = 0.01arcsec/pixel\")\n",
    "axs[1].scatter(range(1,10), cell06_if, facecolors=\"None\", edgecolors='b', s=100, label = \"Cell = 0.06arcsec/pixel\")\n",
    "axs[1].set_yscale(\"log\")\n",
    "axs[1].set_ylabel(\"Integrated Flux ($\\mu Jy$)\")\n",
    "axs[1].set_xlabel(\"Arbitrary Object ID Numbers\")\n",
    "axs[1].legend(loc=\"best\")"
   ]
  },
  {
   "cell_type": "markdown",
   "metadata": {},
   "source": [
    "Measurements don't vary too much for these objects -- the largest deviation occurs in the faintest object.  See below for an interesting change in appearance for that object across different cell sizes."
   ]
  },
  {
   "cell_type": "markdown",
   "metadata": {},
   "source": [
    "![Cell06_1040+6002](../git_images/1040+6002_cell06arcsec.png)\n",
    "\n",
    "![Cell01_1040+6002](../git_images/1040+6002_3.png)"
   ]
  },
  {
   "cell_type": "markdown",
   "metadata": {},
   "source": [
    "Object #6 / 1040+6002 image with cell size of 0.06arcsec/pixel and 0.01arcsec/pixel\n",
    "\n",
    "Amy -- this is what I was referring to in that our faintest detection looks much different across different cell sizes.  Is this a result of the smaller pixels actually doing a better job imaging the source, or are those pixels around the source ejust being attenuated when they shouldn't in the smaller-pixel image?"
   ]
  }
 ],
 "metadata": {
  "kernelspec": {
   "display_name": "Python 3",
   "language": "python",
   "name": "python3"
  },
  "language_info": {
   "codemirror_mode": {
    "name": "ipython",
    "version": 3
   },
   "file_extension": ".py",
   "mimetype": "text/x-python",
   "name": "python",
   "nbconvert_exporter": "python",
   "pygments_lexer": "ipython3",
   "version": "3.6.4"
  }
 },
 "nbformat": 4,
 "nbformat_minor": 2
}
